{
  "nbformat": 4,
  "nbformat_minor": 0,
  "metadata": {
    "colab": {
      "provenance": [],
      "gpuType": "T4",
      "toc_visible": true
    },
    "kernelspec": {
      "name": "python3",
      "display_name": "Python 3"
    },
    "language_info": {
      "name": "python"
    }
  },
  "cells": [
    {
      "cell_type": "markdown",
      "source": [
        "# Installing Dependencies"
      ],
      "metadata": {
        "id": "abubUgWeWj_c"
      }
    },
    {
      "cell_type": "code",
      "source": [
        "!pip install pyPDF2\n",
        "!pip install pytesseract pillow\n",
        "!pip install reportlab"
      ],
      "metadata": {
        "colab": {
          "base_uri": "https://localhost:8080/"
        },
        "id": "eR_PlcshFKXO",
        "outputId": "20127847-eefe-4edc-cba8-5f11da77e592"
      },
      "execution_count": 11,
      "outputs": [
        {
          "output_type": "stream",
          "name": "stdout",
          "text": [
            "Requirement already satisfied: pyPDF2 in /usr/local/lib/python3.11/dist-packages (3.0.1)\n",
            "Requirement already satisfied: pytesseract in /usr/local/lib/python3.11/dist-packages (0.3.13)\n",
            "Requirement already satisfied: pillow in /usr/local/lib/python3.11/dist-packages (11.2.1)\n",
            "Requirement already satisfied: packaging>=21.3 in /usr/local/lib/python3.11/dist-packages (from pytesseract) (24.2)\n",
            "Requirement already satisfied: reportlab in /usr/local/lib/python3.11/dist-packages (4.4.1)\n",
            "Requirement already satisfied: pillow>=9.0.0 in /usr/local/lib/python3.11/dist-packages (from reportlab) (11.2.1)\n",
            "Requirement already satisfied: chardet in /usr/local/lib/python3.11/dist-packages (from reportlab) (5.2.0)\n"
          ]
        }
      ]
    },
    {
      "cell_type": "markdown",
      "source": [
        "# API CONFIGURATION"
      ],
      "metadata": {
        "id": "7vQBqENtWgmo"
      }
    },
    {
      "cell_type": "code",
      "execution_count": 10,
      "metadata": {
        "id": "6uEZ7UTeEWV2"
      },
      "outputs": [],
      "source": [
        "# using gemini  api\n",
        "\n",
        "import google.generativeai as genai\n",
        "from google.colab import userdata\n",
        "\n",
        "GOOGLE_API_KEY = userdata.get('GOOGLE_API_KEY')\n",
        "genai.configure(api_key = GOOGLE_API_KEY)"
      ]
    },
    {
      "cell_type": "markdown",
      "source": [
        "# Text Extraction for PDF and Images"
      ],
      "metadata": {
        "id": "eR-IWnIuWshY"
      }
    },
    {
      "cell_type": "code",
      "source": [
        "import PyPDF2\n",
        "from PIL import Image\n",
        "import pytesseract\n",
        "import os\n",
        "\n",
        "# function to extract text from PDF file\n",
        "def extract_text_from_pdf(pdf_path):\n",
        "  text = \"\"\n",
        "  with open(pdf_path,\"rb\") as file:\n",
        "    reader = PyPDF2.PdfReader(file)\n",
        "    for page in reader.pages:\n",
        "      text+=page.extract_text() + \"\\n\"\n",
        "    return text\n",
        "\n",
        "# function to extract text from Image\n",
        "def extract_text_from_image(image_paths):\n",
        "  result = {}\n",
        "  for path in image_paths:\n",
        "    try:\n",
        "        image = Image.open(path)\n",
        "        text = pytesseract.image_to_string(image)\n",
        "        result[os.path.basename(path)] = text\n",
        "    except Exception as e:\n",
        "        result[os.path.basename(path)] = f\"Error: {e}\"\n",
        "    return result"
      ],
      "metadata": {
        "id": "cSSsvNpmFP15"
      },
      "execution_count": 14,
      "outputs": []
    },
    {
      "cell_type": "markdown",
      "source": [
        "##Summarizer + Key Terms from Report"
      ],
      "metadata": {
        "id": "k1zIC1UMFUMj"
      }
    },
    {
      "cell_type": "code",
      "source": [
        "# function that calls gemini model when summary and key terms explainer\n",
        "\n",
        "def extract_summary_and_key_terms(text):\n",
        "  model = genai.GenerativeModel(\"gemini-1.5-flash\")\n",
        "  prompt = f\"Summarize and explain the following medical document. Also create seperate heading to explain all difficult medical terms present in image very briefly but in simple language. Give in depth summary and other headings such as at home cures which are not something risky but known ways such as suggested foods and diets. Ensure to add warning to seek medical professional advice before following any advice. If the text is not relevant to any medical report or is not related to medical information, decline providing the information very politely and ask user to upload health, fitness, medical reports or medicine related docs only. Properly format with both headings and key pointers and general paragraphs. Do not mention any names of doctors, patients, etc. Try to not use your own knowledge and reply mostly from pdf. Here is the text to summarize: \\n\\n {text}\"\n",
        "  response = model.generate_content(prompt)\n",
        "  return response.text"
      ],
      "metadata": {
        "id": "F4mqRvm_GiV-"
      },
      "execution_count": 15,
      "outputs": []
    },
    {
      "cell_type": "markdown",
      "source": [],
      "metadata": {
        "id": "uzVI3uRzN24l"
      }
    },
    {
      "cell_type": "code",
      "source": [
        "from reportlab.lib.pagesizes import A4\n",
        "from reportlab.platypus import SimpleDocTemplate, Paragraph, Spacer, PageBreak\n",
        "from reportlab.lib.styles import getSampleStyleSheet, ParagraphStyle\n",
        "from reportlab.lib.units import inch\n",
        "from reportlab.lib.enums import TA_CENTER, TA_JUSTIFY\n",
        "from reportlab.pdfgen import canvas\n",
        "from reportlab.lib import colors\n",
        "import os\n",
        "\n",
        "def create_pdf_report(output_path, explanation_text, logo_path):\n",
        "    # --- Document setup ---\n",
        "    doc = SimpleDocTemplate(\n",
        "        output_path,\n",
        "        pagesize=A4,\n",
        "        rightMargin=40,\n",
        "        leftMargin=40,\n",
        "        topMargin=80,\n",
        "        bottomMargin=50\n",
        "    )\n",
        "\n",
        "    # --- Styles ---\n",
        "    styles = getSampleStyleSheet()\n",
        "    styles.add(ParagraphStyle('CenterTitle', alignment=TA_CENTER, fontSize=18, spaceAfter=30))\n",
        "    styles.add(ParagraphStyle('Justify', alignment=TA_JUSTIFY, leading=16))\n",
        "    styles.add(ParagraphStyle('SubHeading', fontSize=14, spaceBefore=12, spaceAfter=6, leading=16))\n",
        "\n",
        "    flowables = []\n",
        "\n",
        "    # Add heading with more spacing\n",
        "    flowables.append(Paragraph(\"<b>Clinically – Medical Report Analyzer</b>\", styles['CenterTitle']))\n",
        "    flowables.append(Spacer(1, 12))  # Extra space after heading\n",
        "\n",
        "    # --- Parse explanation text ---\n",
        "    for orig in explanation_text.splitlines():\n",
        "        line = orig.strip()\n",
        "        if not line:\n",
        "            flowables.append(Spacer(1, 8))\n",
        "            continue\n",
        "\n",
        "        clean = line.replace('*', '').strip()\n",
        "\n",
        "        if clean.endswith(':') and not orig.lstrip().startswith('*'):\n",
        "            flowables.append(Paragraph(f\"<b>{clean}</b>\", styles['SubHeading']))\n",
        "        elif orig.lstrip().startswith('*'):\n",
        "            if ':' in clean:\n",
        "                term, expl = clean.split(':', 1)\n",
        "                flowables.append(Paragraph(f\"• <b>{term.strip()}:</b> {expl.strip()}\", styles['Justify']))\n",
        "            else:\n",
        "                flowables.append(Paragraph(f\"• {clean}\", styles['Justify']))\n",
        "        else:\n",
        "            flowables.append(Paragraph(clean, styles['Justify']))\n",
        "\n",
        "    flowables.append(PageBreak())\n",
        "\n",
        "    # --- Watermark logo centered and light ---\n",
        "    def draw_header(c: canvas.Canvas, doc):\n",
        "        width, height = A4\n",
        "\n",
        "        # Draw watermark-style logo\n",
        "        if os.path.exists(logo_path):\n",
        "            watermark_width = 4 * inch\n",
        "            watermark_height = 4 * inch\n",
        "            c.saveState()\n",
        "            c.translate((width - watermark_width) / 2, (height - watermark_height) / 2)\n",
        "            c.setFillAlpha(0.2)  # Very light opacity\n",
        "            c.drawImage(\n",
        "                logo_path,\n",
        "                0,\n",
        "                0,\n",
        "                width=watermark_width,\n",
        "                height=watermark_height,\n",
        "                mask='auto'\n",
        "            )\n",
        "            c.restoreState()\n",
        "\n",
        "    # --- Build PDF ---\n",
        "    doc.build(flowables, onFirstPage=draw_header, onLaterPages=draw_header)\n",
        "    print(f\"PDF successfully saved at: {output_path}\")\n"
      ],
      "metadata": {
        "id": "W4sBYtK8saEq"
      },
      "execution_count": 28,
      "outputs": []
    },
    {
      "cell_type": "code",
      "source": [
        "#Function to take random input and then classify between images and pdf and output the pdf file accordingly\n",
        "\n",
        "import os\n",
        "\n",
        "def is_image_file(file_path):\n",
        "    return file_path.lower().endswith((\".png\", \".jpg\", \".jpeg\", \".bmp\", \".tiff\"))\n",
        "\n",
        "def is_pdf_file(file_path):\n",
        "    return file_path.lower().endswith(\".pdf\")\n",
        "\n",
        "def process_medical_report(input_path):\n",
        "    if isinstance(input_path, list):\n",
        "        # Check if it's a list of images\n",
        "        if all(is_image_file(p) for p in input_path):\n",
        "            extracted_texts = extract_text_from_image(input_path)\n",
        "            for filename, text in extracted_texts.items():\n",
        "                summary = extract_summary_and_key_terms(text)\n",
        "                print(f\"\\nSummary for {filename}:\\n{summary}\")\n",
        "                output_path = \"/content/medical_report_clinically_test1.pdf\"\n",
        "                logo_path = \"/content/logo.png\"\n",
        "                create_pdf_report(output_path, summary, logo_path)\n",
        "        else:\n",
        "            print(\"Error: List contains non-image files.\")\n",
        "\n",
        "    elif isinstance(input_path, str):\n",
        "        # Check if it's a single PDF file\n",
        "        if is_pdf_file(input_path):\n",
        "            extracted_text = extract_text_from_pdf(input_path)\n",
        "            summary = extract_summary_and_key_terms(extracted_text)\n",
        "            print(f\"\\nReport Brief for {os.path.basename(input_path)}:\\n{summary}\")\n",
        "            output_path = \"/content/medical_report_clinically_test1.pdf\"\n",
        "            logo_path = \"/content/logo.png\"\n",
        "            create_pdf_report(output_path, summary, logo_path)\n",
        "        else:\n",
        "            print(\"Error: Input string is not a PDF file.\")\n",
        "\n",
        "    else:\n",
        "        print(\"Unsupported input format.\")\n",
        "\n",
        "\n",
        "\n",
        "# # Test 1: Image list input\n",
        "# image_list1 = [\"/content/Image_test_for_medical_chatbot.png\"]\n",
        "# image_list2 = [\"/content/medical_report_img-test1.png\", \"/content/medical_report_img-test2.png\"]\n",
        "# process_medical_report(image_list2)\n",
        "\n",
        "# Test 2: PDF input\n",
        "pdf_file = \"/content/medical_report_test1.pdf\"\n",
        "non_med_pdf_file2 = \"/content/Nitya Social Media LOR Draft.pdf\"\n",
        "process_medical_report(pdf_file)"
      ],
      "metadata": {
        "colab": {
          "base_uri": "https://localhost:8080/",
          "height": 1000
        },
        "id": "oXn7c4S4n_2d",
        "outputId": "dba1d9b5-7754-4d92-8257-c062714275ae"
      },
      "execution_count": 29,
      "outputs": [
        {
          "output_type": "stream",
          "name": "stdout",
          "text": [
            "\n",
            "Report Brief for medical_report_test1.pdf:\n",
            "The provided document is a comprehensive laboratory report detailing the results of various blood and urine tests conducted on a 41-year-old male patient.  The report includes a complete blood count (CBC), lipid profile, blood glucose and HbA1c levels, thyroid function tests, kidney function tests, liver function tests, iron studies, vitamin levels (B12 and D), homocysteine levels, prostate-specific antigen (PSA), IgE levels, HIV and Hepatitis B screening, and hemoglobin electrophoresis.\n",
            "\n",
            "**Summary of Key Findings:**\n",
            "\n",
            "The report reveals several notable findings that require further investigation and clinical correlation by a medical professional:\n",
            "\n",
            "\n",
            "* **Elevated Fasting Blood Sugar and HbA1c:**  The fasting blood sugar (141.0 mg/dL) and HbA1c (7.10%) levels are significantly higher than the reference intervals, suggesting uncontrolled diabetes. This needs careful monitoring and management.\n",
            "\n",
            "\n",
            "* **Elevated Homocysteine:** The homocysteine level (23.86 micromol/L) is considerably above the normal range, which may indicate a vitamin B12 or folate deficiency, or other underlying medical conditions.\n",
            "\n",
            "\n",
            "* **Low Vitamin B12:** Vitamin B12 levels (<148 pg/mL) are below the reference range. This, along with elevated homocysteine,  requires further investigation and potential treatment.\n",
            "\n",
            "\n",
            "* **Low Vitamin D:**  Vitamin D level (8.98 ng/mL) suggests deficiency, which could contribute to various health problems.\n",
            "\n",
            "\n",
            "* **Elevated IgE:** The IgE level (492.30 IU/mL) is markedly elevated, indicating a potential allergic condition or parasitic infection. This finding requires further investigation and appropriate allergy testing.\n",
            "\n",
            "\n",
            "\n",
            "* **Slightly Elevated Liver Enzymes:** SGPT (48.0 U/L) is near the upper limit of the reference range, which might indicate mild liver inflammation or dysfunction.\n",
            "\n",
            "\n",
            "* **Other Values:** Most other parameters (CBC, lipid profile, thyroid function, kidney function, etc.) appear within or near their respective normal ranges, although some values (such as the slightly increased MCV, which shows that RBCs are slightly larger than normal) merit consideration along with the other findings.  \n",
            "\n",
            "\n",
            "**It is crucial to understand that this summary is for informational purposes only and should not be used for self-diagnosis or treatment.** The interpretation of these results requires the expertise of a healthcare professional who can consider the patient's medical history, symptoms, and other factors to provide appropriate advice and management.\n",
            "\n",
            "\n",
            "\n",
            "**Difficult Medical Terms Explained:**\n",
            "\n",
            "* **Hemoglobin (Hb):** The protein in red blood cells that carries oxygen.\n",
            "* **RBC (Red Blood Cell) Count:** The number of red blood cells in a sample of blood.\n",
            "* **Hematocrit (Hct):** The percentage of red blood cells in a blood sample.\n",
            "* **MCV (Mean Corpuscular Volume):** The average size of red blood cells.\n",
            "* **MCH (Mean Corpuscular Hemoglobin):** The average amount of hemoglobin in a red blood cell.\n",
            "* **MCHC (Mean Corpuscular Hemoglobin Concentration):** The average concentration of hemoglobin in a red blood cell.\n",
            "* **RDW (Red Cell Distribution Width):** A measure of the variation in the size of red blood cells.\n",
            "* **WBC (White Blood Cell) Count:** The number of white blood cells (immune cells) in a blood sample.\n",
            "* **Neutrophils, Lymphocytes, Eosinophils, Monocytes, Basophils:** Different types of white blood cells.\n",
            "* **Platelet Count:** The number of platelets (cells involved in blood clotting) in a blood sample.\n",
            "* **MPV (Mean Platelet Volume):** The average size of platelets.\n",
            "* **HbA1c (Glycosylated Hemoglobin):** A measure of average blood glucose levels over the past 2-3 months.\n",
            "* **Cholesterol, Triglycerides, HDL (High-Density Lipoprotein), LDL (Low-Density Lipoprotein), VLDL (Very-Low-Density Lipoprotein):**  Different types of fats in the blood.\n",
            "* **T3 (Triiodothyronine), T4 (Thyroxine), TSH (Thyroid Stimulating Hormone):** Hormones produced by the thyroid gland.\n",
            "* **Microalbuminuria:** The presence of small amounts of albumin (a protein) in the urine, often an early sign of kidney damage.\n",
            "* **Total Protein, Albumin, Globulin:**  Proteins found in the blood.\n",
            "* **A/G Ratio (Albumin/Globulin Ratio):** The ratio of albumin to globulin in the blood.\n",
            "* **Bilirubin:** A yellow pigment produced during the breakdown of red blood cells.\n",
            "* **Iron, TIBC (Total Iron Binding Capacity), Transferrin Saturation:**  Measures of iron levels and iron-carrying capacity in the blood.\n",
            "* **Homocysteine:** An amino acid; elevated levels may be associated with heart disease and other conditions.\n",
            "* **Creatinine, Urea, BUN (Blood Urea Nitrogen), Uric Acid, Calcium:**  Substances found in the blood, often used as markers of kidney function.\n",
            "* **SGPT (Alanine aminotransferase), SGOT (Aspartate aminotransferase):** Liver enzymes; elevated levels may indicate liver damage.\n",
            "* **Sodium (Na+), Potassium (K+), Chloride (Cl−):** Electrolytes important for fluid balance and nerve function.\n",
            "* **25(OH) Vitamin D:** A form of vitamin D measured to assess vitamin D status.\n",
            "* **IgE (Immunoglobulin E):** An antibody involved in allergic reactions.\n",
            "* **PSA (Prostate-Specific Antigen):** A protein produced by the prostate gland; elevated levels can be associated with prostate cancer.\n",
            "* **HIV (Human Immunodeficiency Virus), HBsAg (Hepatitis B surface antigen):** Markers for HIV and Hepatitis B infections.\n",
            "* **Hb A, Hb A2, Hb F (Fetal Hemoglobin):** Different types of hemoglobin.\n",
            "\n",
            "\n",
            "**At-Home Cures (Disclaimer:  Always consult a doctor before starting any new diet or treatment):**\n",
            "\n",
            "The information provided in this report strongly suggests the need for medical intervention and should not be self-treated.  However,  incorporating a healthy lifestyle can be supportive for managing some of the conditions suggested by the test results:\n",
            "\n",
            "* **Diet for Diabetes and Blood Sugar Control:**  Focus on a balanced diet with plenty of fruits, vegetables, whole grains, and lean protein, limiting sugary drinks and processed foods.\n",
            "* **Diet for Healthy Cholesterol:**  A diet low in saturated and trans fats is crucial.  Include foods rich in omega-3 fatty acids, such as fatty fish.\n",
            "* **Foods Rich in Vitamin B12:**  Include meat, poultry, fish, eggs, and dairy products in your diet.  Vitamin B12 supplements may be necessary if deficiency is confirmed.\n",
            "* **Foods Rich in Vitamin D:**  Sunlight exposure, as well as fatty fish and fortified foods, are excellent sources.  A supplement might be recommended by your physician.\n",
            "* **Foods Rich in Folate:**  Leafy green vegetables, citrus fruits, beans, and lentils.\n",
            "\n",
            "\n",
            "**Warning:**  The information provided here is a summary of the laboratory report and is not intended to provide medical advice.  **It is crucial to consult with a healthcare professional for proper diagnosis, treatment, and management of any health concerns.**  Do not attempt to self-treat based on this information.\n",
            "\n",
            "PDF successfully saved at: /content/medical_report_clinically_test1.pdf\n"
          ]
        }
      ]
    },
    {
      "cell_type": "markdown",
      "source": [
        "# Summary Tester"
      ],
      "metadata": {
        "id": "CoJV2hxQWSW6"
      }
    },
    {
      "cell_type": "code",
      "source": [
        "#Test Input Paths -> single pdf, multiple images\n",
        "pdf_file = \"/content/medical_report_test1.pdf\"\n",
        "non_med_pdf_file2 = \"/content/Nitya Social Media LOR Draft.pdf\"\n",
        "image_list1 = [\"/content/Image_test_for_medical_chatbot.png\"]\n",
        "image_list2 = [\"/content/medical_report_img-test1.png\",\"/content/medical_report_img-test2.png\"]\n",
        "\n",
        "# calling functions to create summary :\n",
        "extracted_text = extract_text_from_pdf(pdf_file)\n",
        "summary = extract_summary_and_key_terms(extracted_text)\n",
        "print(\"Report Brief : \\n\", summary)"
      ],
      "metadata": {
        "colab": {
          "base_uri": "https://localhost:8080/",
          "height": 852
        },
        "id": "NjXw32cAJmvn",
        "outputId": "68b37416-158c-46ab-e8a9-8f1a8442e38e"
      },
      "execution_count": 7,
      "outputs": [
        {
          "output_type": "stream",
          "name": "stdout",
          "text": [
            "Report Brief : \n",
            " This document is a comprehensive laboratory report detailing the results of various blood and urine tests conducted on a 41-year-old male patient.  The report covers a wide range of parameters, including complete blood count (CBC), lipid profile, blood glucose levels, thyroid function, kidney function, liver function, vitamin levels, and infectious disease markers.\n",
            "\n",
            "\n",
            "**Summary of Key Findings:**\n",
            "\n",
            "The patient's complete blood count shows a slightly elevated white blood cell count (10,570/cmm, slightly above the upper limit of normal), while other blood cell parameters (red blood cells, hemoglobin, hematocrit, etc.) are within the normal ranges.  His lipid profile reveals borderline high triglycerides (168 mg/dL), while other lipid values like cholesterol and HDL are within acceptable limits. The patient's fasting blood sugar is elevated (141.0 mg/dL), indicating potential hyperglycemia. His HbA1c level is 7.10%, which is significantly above the normal range, indicating poor control of blood glucose.  His thyroid function tests are within normal limits.  Kidney function tests show slightly elevated blood urea nitrogen (BUN) and creatinine. His serum Vitamin B12 levels are below the normal range (<148 pg/mL), suggesting a potential deficiency. His 25(OH) Vitamin D level is also low (8.98 ng/mL) indicating insufficiency.  Liver function tests are mostly within normal range, except for slightly elevated SGPT (48 U/L).  The patient's Prostate-Specific Antigen (PSA) is within the normal range. His total IgE level is significantly elevated (492.30 IU/mL), suggesting possible allergic conditions. HIV and Hepatitis B surface antigen tests are non-reactive.  Hemoglobin electrophoresis shows a normal profile with no indication of beta-thalassemia trait.  Urine analysis reveals the presence of glucose, suggesting glycosuria, and other aspects of urine parameters within normal ranges.\n",
            "\n",
            "\n",
            "**Medical Terms Explained:**\n",
            "\n",
            "* **Hemoglobin (Hb):** The protein in red blood cells that carries oxygen.\n",
            "* **RBC Count:** The number of red blood cells in a sample of blood.\n",
            "* **Hematocrit (Hct):** The percentage of blood volume occupied by red blood cells.\n",
            "* **MCV, MCH, MCHC:** These are indices that describe the size, weight, and concentration of hemoglobin in red blood cells.\n",
            "* **RDW:** Measures the variation in the size of red blood cells.\n",
            "* **WBC Count:** The number of white blood cells (immune cells) in a sample of blood.\n",
            "* **Neutrophils, Lymphocytes, Eosinophils, Monocytes, Basophils:** Different types of white blood cells, each with a specific function in the immune system.\n",
            "* **Platelet Count:**  The number of platelets (blood clotting cells) in a sample of blood.\n",
            "* **MPV:** Mean platelet volume, an indicator of platelet size.\n",
            "* **Cholesterol, Triglycerides, HDL, LDL, VLDL:** Different types of fats (lipids) in the blood. HDL is \"good\" cholesterol, and LDL is \"bad\" cholesterol.\n",
            "* **Fasting Blood Sugar:** Blood glucose level after fasting for at least 8 hours.\n",
            "* **HbA1c:** A measure of average blood glucose levels over the past 2-3 months.\n",
            "* **T3, T4, TSH:** Hormones produced by the thyroid gland, important for metabolism.\n",
            "* **Microalbuminuria:** The presence of small amounts of albumin (a protein) in the urine, which can be a sign of kidney damage.\n",
            "* **Total Protein, Albumin, Globulin, A/G Ratio:** Components of blood proteins.\n",
            "* **Bilirubin:** A breakdown product of hemoglobin. Elevated levels may indicate liver problems.\n",
            "* **Iron, TIBC, Transferrin Saturation:** Measures of iron levels in the blood.\n",
            "* **Homocysteine:** An amino acid. Elevated levels may be a risk factor for heart disease.\n",
            "* **Creatinine, Urea, BUN, Uric Acid, Calcium:** Waste products and electrolytes in the blood, indicating kidney function.\n",
            "* **SGPT (ALT), SGOT (AST):** Liver enzymes. Elevated levels indicate liver damage.\n",
            "* **Sodium (Na+), Potassium (K+), Chloride (Cl-):** Electrolytes that maintain fluid balance in the body.\n",
            "* **25(OH) Vitamin D:** The main form of vitamin D in the blood.\n",
            "* **Vitamin B12:** A vitamin essential for nerve function and red blood cell production.\n",
            "* **PSA (Prostate-Specific Antigen):** A protein produced by the prostate gland. Elevated levels can be a sign of prostate cancer.\n",
            "* **IgE:** An antibody involved in allergic reactions.\n",
            "* **HIV, Hepatitis B surface antigen (HBsAg):** Tests for the presence of antibodies to these viruses.\n",
            "* **Hb A, Hb A2, Hb F:** Different types of hemoglobin.\n",
            "\n",
            "\n",
            "**At-Home Cures (Disclaimer: Always seek medical advice before attempting any at-home remedies):**\n",
            "\n",
            "Based on the report's findings of low Vitamin B12 and D levels, and elevated fasting blood sugar,  you may wish to consult your doctor about possible dietary changes. Foods rich in Vitamin B12 include meat, poultry, fish, eggs, and dairy products. Vitamin D can be obtained from certain foods (like fatty fish and egg yolks), but often sunlight exposure and supplements are necessary. Maintaining a balanced diet with controlled carbohydrate intake to help manage blood glucose levels might be advised by your doctor.\n",
            "\n",
            "\n",
            "**Warning:**  The information provided here is for summary and educational purposes only and should not be considered medical advice.  The interpretation of these results and any recommended treatment plan must be done by a qualified healthcare professional.  Do not attempt to self-treat based on this report.  Schedule an appointment with your doctor to discuss these findings and develop an appropriate treatment plan.\n",
            "\n"
          ]
        }
      ]
    },
    {
      "cell_type": "code",
      "source": [
        "# main app code to to input image file paths and call summarizer + tester\n",
        "\n",
        "image_list1 = [\"/content/Image_test_for_medical_chatbot.png\"]\n",
        "image_list2 = [\"/content/medical_report_img-test1.png\",\"/content/medical_report_img-test2.png\"]\n",
        "extracted_texts = extract_text_from_image(image_list2)\n",
        "for filename, text in extracted_texts.items():\n",
        "    summary = extract_summary_and_key_terms(text)\n",
        "    print(f\"\\nSummary for {filename}:\\n{summary}\")"
      ],
      "metadata": {
        "colab": {
          "base_uri": "https://localhost:8080/",
          "height": 852
        },
        "id": "ZxH_9fNZP4wF",
        "outputId": "01431455-573d-4e5c-8041-0d8dd403689d"
      },
      "execution_count": 9,
      "outputs": [
        {
          "output_type": "stream",
          "name": "stdout",
          "text": [
            "\n",
            "Summary for medical_report_img-test1.png:\n",
            "This document is a complete blood count (CBC) report for a 21-year-old male patient.  The report indicates potential anemia requiring further investigation.\n",
            "\n",
            "**Summary of Findings:**\n",
            "\n",
            "The patient's hemoglobin level (Hb) is 12.5 g/dL, which falls below the reference range of 13.0-17.0 g/dL, suggesting anemia.  Other blood indices, while mostly within normal ranges, support this suspicion:\n",
            "\n",
            "* **Red Blood Cell (RBC) Count:** Slightly elevated at 5.2 million/µL.\n",
            "* **Packed Cell Volume (PCV):** Slightly elevated at 57.5%.\n",
            "* **Mean Corpuscular Volume (MCV):** Slightly below the normal range at 87.75 fL (normal range 83-101 fL), suggesting that the red blood cells may be smaller than normal (microcytic anemia), although this is a minor deviation and does not clearly confirm this type of anemia.\n",
            "* **Mean Corpuscular Hemoglobin (MCH):** Within the normal range.\n",
            "* **Mean Corpuscular Hemoglobin Concentration (MCHC):**  Within the normal range.\n",
            "* **Red cell distribution width (RDW):**  Within normal range.\n",
            "* **White Blood Cell (WBC) Count:**  Within the normal range at 9000/µL.  The differential WBC count shows normal proportions of neutrophils, lymphocytes, eosinophils, monocytes, and basophils.\n",
            "* **Platelet Count:** Within the normal range at 320,000/µL.\n",
            "\n",
            "The lab's interpretation explicitly suggests the need for further confirmation to diagnose anemia.\n",
            "\n",
            "\n",
            "**Difficult Medical Terms Explained:**\n",
            "\n",
            "* **Hemoglobin (Hb):** The protein in red blood cells that carries oxygen throughout the body. Low hemoglobin indicates anemia.\n",
            "* **Red Blood Cell (RBC) Count:** The number of red blood cells in a sample of blood.\n",
            "* **Packed Cell Volume (PCV):** The percentage of blood volume occupied by red blood cells.\n",
            "* **Mean Corpuscular Volume (MCV):** The average size of red blood cells.\n",
            "* **Mean Corpuscular Hemoglobin (MCH):** The average amount of hemoglobin in a red blood cell.\n",
            "* **Mean Corpuscular Hemoglobin Concentration (MCHC):** The average concentration of hemoglobin in a red blood cell.\n",
            "* **Red cell distribution width (RDW):** A measure of the variation in the size of red blood cells.\n",
            "* **White Blood Cell (WBC) Count:** The number of white blood cells in a sample of blood.  White blood cells fight infection.\n",
            "* **Differential WBC Count:**  The breakdown of the different types of white blood cells (neutrophils, lymphocytes, eosinophils, monocytes, basophils).  Each type has a specific role in the immune system.\n",
            "* **Platelet Count:** The number of platelets in a sample of blood. Platelets are involved in blood clotting.\n",
            "* **Anemia:** A condition characterized by a deficiency of red blood cells or hemoglobin in the blood, resulting in a reduced ability of the blood to carry oxygen to the body's tissues.\n",
            "\n",
            "\n",
            "**At-Home Cures (Disclaimer:  This information is for general knowledge only and should not be considered medical advice. Always consult a healthcare professional before making any changes to your diet or treatment plan.)**\n",
            "\n",
            "While at-home remedies cannot cure anemia, a healthy diet rich in iron and certain vitamins can support the body's ability to produce red blood cells.  Foods to consider include:\n",
            "\n",
            "* **Iron-rich foods:**  Red meat, spinach, beans, lentils, tofu.\n",
            "* **Vitamin C-rich foods:**  Citrus fruits, strawberries, peppers. Vitamin C aids in iron absorption.\n",
            "* **Vitamin B12-rich foods:**  Meat, poultry, fish, eggs, dairy products.  Vitamin B12 is essential for red blood cell production.\n",
            "* **Folic acid-rich foods:**  Leafy green vegetables, legumes, citrus fruits. Folic acid is also crucial for red blood cell production.\n",
            "\n",
            "\n",
            "**Important Warning:**  This summary and suggested dietary changes are for informational purposes only and should not be considered medical advice.  The information provided here does not replace a professional medical consultation.  It is crucial to consult with a doctor or other qualified healthcare professional to determine the underlying cause of the potential anemia and to receive appropriate medical treatment.  Self-treating can be dangerous and may delay proper diagnosis and management.\n",
            "\n"
          ]
        }
      ]
    },
    {
      "cell_type": "markdown",
      "source": [
        "# Explain Medical Terms in Report"
      ],
      "metadata": {
        "id": "xwLAZojcVagu"
      }
    },
    {
      "cell_type": "code",
      "source": [
        "def explain_medical_terms(text):\n",
        "  model = genai.GenerativeModel(\"gemini-1.5-flash\")\n",
        "  prompt = f\"Explain all difficult medical terms present in image very briefly but in simple language. If the text is not relevant to any medical report or is not related to medical information, decline providing the summary very politely and ask user to upload health, fitness, medical reports or medicine related docs only. Here is the text: \\n\\n {text}\"\n",
        "  response = model.generate_content(prompt)\n",
        "  return response.text"
      ],
      "metadata": {
        "id": "MXhlmewaMsSW"
      },
      "execution_count": null,
      "outputs": []
    },
    {
      "cell_type": "markdown",
      "source": [
        "# Medical Terms Explain Tester"
      ],
      "metadata": {
        "id": "50e22eKfXIGZ"
      }
    },
    {
      "cell_type": "code",
      "source": [
        "# for pdf\n",
        "\n",
        "pdf_file = \"/content/medical_report_test1.pdf\"\n",
        "non_med_pdf_file2 = \"/content/FeeReceipt.pdf\"\n",
        "extracted_text = extract_text_from_pdf(pdf_file)\n",
        "explain_terms = explain_medical_terms(extracted_text)\n",
        "print(\"Key terms : \\n\", explain_terms)"
      ],
      "metadata": {
        "colab": {
          "base_uri": "https://localhost:8080/",
          "height": 939
        },
        "id": "bXQ4V6ysXEnT",
        "outputId": "649c3fce-2c19-4798-b21e-91131ba49128"
      },
      "execution_count": null,
      "outputs": [
        {
          "output_type": "stream",
          "name": "stdout",
          "text": [
            "Key terms : \n",
            " This report shows the results of a comprehensive blood and urine test. Here's a simplified explanation of the complex terms:\n",
            "\n",
            "**Blood Tests:**\n",
            "\n",
            "* **Complete Blood Count (CBC):** A basic blood test checking various blood components.\n",
            "    * **Hemoglobin (Hb):** Protein in red blood cells carrying oxygen.\n",
            "    * **RBC Count:** Number of red blood cells.\n",
            "    * **Hematocrit:** Percentage of red blood cells in blood.\n",
            "    * **MCV:** Average size of red blood cells.\n",
            "    * **MCH:** Average amount of hemoglobin in each red blood cell.\n",
            "    * **MCHC:** Average concentration of hemoglobin in red blood cells.\n",
            "    * **RDW:** Variation in the size of red blood cells.\n",
            "    * **WBC Count:** Number of white blood cells (fight infection).\n",
            "    * **Neutrophils, Lymphocytes, Eosinophils, Monocytes, Basophils:** Types of white blood cells, each with a specific function.\n",
            "    * **Platelet Count:** Number of platelets (help blood clot).\n",
            "    * **MPV:** Average size of platelets.\n",
            "    * **RBC, WBC, Platelets Morphology:** Shape and appearance of red blood cells, white blood cells, and platelets under a microscope.  \"Normocytic\" and \"normochromic\" mean the red blood cells are normal in size and color.\n",
            "    * **ESR:** How quickly red blood cells settle in a test tube (inflammation marker).\n",
            "\n",
            "* **Lipid Profile:**  Measures fats (lipids) in the blood.\n",
            "    * **Cholesterol:**  Fat-like substance.  HDL (\"good cholesterol\") and LDL (\"bad cholesterol\") are types of cholesterol.\n",
            "    * **Triglycerides:** Another type of fat in the blood.\n",
            "    * **VLDL:**  Very-low-density lipoprotein (a type of fat).\n",
            "    * **CHOL/HDL Ratio & LDL/HDL Ratio:** Ratios used to assess cardiovascular risk.\n",
            "\n",
            "\n",
            "* **HbA1c (Glycosylated Hemoglobin):** Average blood sugar level over the past 2-3 months.  Used to monitor diabetes.\n",
            "* **Thyroid Function Test:** Measures thyroid hormones (T3, T4, TSH).  The thyroid is a gland that regulates metabolism.\n",
            "* **Microalbumin (in urine):** A small amount of albumin (protein) in the urine, possibly indicating kidney damage.\n",
            "* **Protein, Albumin, Globulin, A/G Ratio (in blood):**  Measures different types of proteins in the blood.\n",
            "* **Iron Studies:** Measures iron levels in the blood (important for oxygen transport). Includes Total Iron Binding Capacity (TIBC) and Transferrin Saturation.\n",
            "* **Homocysteine:** An amino acid; high levels may be linked to heart disease.\n",
            "* **Blood Urea Nitrogen (BUN), Creatinine, Uric Acid, Calcium:** Measures waste products and minerals in the blood.\n",
            "* **SGPT (ALT), SGOT (AST):** Liver enzymes; elevated levels may indicate liver damage.\n",
            "* **Electrolytes (Sodium, Potassium, Chloride):** Minerals essential for bodily functions.\n",
            "* **25(OH) Vitamin D:**  A measure of vitamin D levels.\n",
            "* **Vitamin B12:** A vitamin essential for nerve function and red blood cell production.\n",
            "* **PSA (Prostate-Specific Antigen):** A protein produced by the prostate gland;  high levels might indicate prostate problems.\n",
            "* **IgE:**  An antibody involved in allergic reactions.\n",
            "* **HIV I & II Ab/Ag:** Test for HIV antibodies and antigens.\n",
            "* **Hb Electrophoresis:** Separates different types of hemoglobin to detect abnormalities like thalassemia.  HbA, HbA2, HbF refer to different types of hemoglobin.\n",
            "\n",
            "\n",
            "**Urine Test:**\n",
            "\n",
            "* **Physical & Chemical (Dip Strip):** A urine test strip that checks several properties of urine: color, clarity, pH, specific gravity, glucose, protein, bilirubin, urobilinogen, ketone, and nitrite.\n",
            "* **Microscopic Examination:** Examination of urine under a microscope for cells, casts, and crystals.\n",
            "\n",
            "\n",
            "**In short:**  The report provides a comprehensive assessment of the patient's overall health, including blood cell counts, organ function (liver, kidney, thyroid), lipid levels, blood sugar control, and potential markers of inflammation and disease.  Many results are within the normal range, but some are slightly elevated (e.g., HbA1c, Homocysteine), necessitating further investigation or monitoring by a physician.\n",
            "\n"
          ]
        }
      ]
    },
    {
      "cell_type": "code",
      "source": [
        "\n",
        "image_list1 = [\"/content/Image_test_for_medical_chatbot.png\"]\n",
        "image_list2 = [\"/content/medical_report_img-test1.png\",\"/content/medical_report_img-test2.png\"]\n",
        "extracted_texts = extract_text_from_image(image_list2)\n",
        "for filename, text in extracted_texts.items():\n",
        "    explain_terms = explain_medical_terms(extracted_texts)\n",
        "    print(\"Key terms : \\n\", explain_terms)"
      ],
      "metadata": {
        "colab": {
          "base_uri": "https://localhost:8080/",
          "height": 419
        },
        "id": "ujbqiTyKWLDq",
        "outputId": "bc35f80a-b4f1-41b3-fb45-a30d4dc8901f"
      },
      "execution_count": null,
      "outputs": [
        {
          "output_type": "stream",
          "name": "stdout",
          "text": [
            "Key terms : \n",
            " This is a blood test report.  Here's a simplified explanation of some terms:\n",
            "\n",
            "* **Hemoglobin (Hb):**  The protein in red blood cells that carries oxygen.  The patient's level (125 g/dL) is high; the normal range is 13.0-17.0 g/dL.\n",
            "\n",
            "* **RBC count:** Red blood cell count. The patient's count (52 million/cu mm) is high; the normal range is 45-55 million/cu mm.\n",
            "\n",
            "* **PCV (Packed Cell Volume):** The percentage of red blood cells in the blood. The patient's PCV (57.5%) is high; the normal range is 40-50%.\n",
            "\n",
            "* **MCV (Mean Corpuscular Volume):** The average size of red blood cells. The patient's MCV (87.75 fl) is slightly high; the normal range is 83-101 fl.\n",
            "\n",
            "* **WBC count:** White blood cell count. The patient's count (9000/cu mm) is within the normal range (4900-11000/cu mm).  White blood cells fight infection.\n",
            "\n",
            "* **Neutrophils, Lymphocytes, Eosinophils, Monocytes, Basophils:** Types of white blood cells.  The percentages given show the proportion of each type.\n",
            "\n",
            "* **Platelet count:** The number of platelets, which help blood clot. The patient's count (320000/cu mm) is within the normal range (180000 - 410000/cu mm).\n",
            "\n",
            "* **Anemia:** A condition where the blood doesn't have enough healthy red blood cells or hemoglobin. The report suggests further testing to confirm if the patient has anemia, despite the high hemoglobin and RBC counts.  The high values may be due to other factors.\n",
            "\n",
            "\n",
            "The other values (MH, MCH, RDW) are also red blood cell indices and are within normal ranges.  Their explanations are not provided for brevity.\n",
            "\n"
          ]
        }
      ]
    },
    {
      "cell_type": "markdown",
      "source": [
        "#Chat with Pdf"
      ],
      "metadata": {
        "id": "pdz8b5pkYSpv"
      }
    },
    {
      "cell_type": "code",
      "source": [
        "def chat_with_medical_report(text,question):\n",
        "  model = genai.GenerativeModel(\"gemini-1.5-flash\")\n",
        "  prompt = f\"Answer question asked based on below medical related test briefly and in simple language. If any of the text or question is not relevant to any medical report or is not related to medical information, decline providing answer very politely and ask user to upload or ask questions related to health, fitness, medical reports or medicine only. here is the question \\n\\n {question} \\n\\n Here is the text: \\n\\n {text}\"\n",
        "  response = model.generate_content(prompt)\n",
        "  return response.text"
      ],
      "metadata": {
        "id": "q-cU1vwrYWUR"
      },
      "execution_count": null,
      "outputs": []
    },
    {
      "cell_type": "markdown",
      "source": [
        "#Chat with pdf tester"
      ],
      "metadata": {
        "id": "ppYhPWHMY8Uj"
      }
    },
    {
      "cell_type": "code",
      "source": [
        "# for pdf\n",
        "\n",
        "pdf_file = \"/content/medical_report_test1.pdf\"\n",
        "non_med_pdf_file2 = \"/content/FeeReceipt.pdf\"\n",
        "extracted_text = extract_text_from_pdf(pdf_file)\n",
        "\n",
        "question_relevant = \"What are key abnormalities in the report?\"\n",
        "question_irrelevant = \"When is Modi Ji's Birthday?\"\n",
        "answer = chat_with_medical_report(extracted_text,question_relevant)\n",
        "print(\"Answer :\\n\",answer)"
      ],
      "metadata": {
        "colab": {
          "base_uri": "https://localhost:8080/",
          "height": 315
        },
        "id": "Z0ZyK4VNV5Ev",
        "outputId": "b4589f40-abce-41ca-86c4-7095bd240c64"
      },
      "execution_count": null,
      "outputs": [
        {
          "output_type": "stream",
          "name": "stdout",
          "text": [
            "Answer :\n",
            " The report shows several abnormalities:\n",
            "\n",
            "* **High Fasting Blood Sugar:**  The fasting blood sugar level of 141.0 mg/dL is above the normal range (74-106 mg/dL), suggesting hyperglycemia.  This, combined with the HbA1c result (see below), indicates a potential problem with blood sugar control.\n",
            "\n",
            "* **High HbA1c:** The HbA1c level of 7.10% is significantly above the normal range for non-diabetics (<5.7%) and even above the good control range for diabetics (6.0-7.0%), suggesting poorly controlled diabetes.\n",
            "\n",
            "* **High Homocysteine:** The homocysteine level of 23.86 micromol/L is well above the normal range (6.0-14.8 micromol/L), indicating hyperhomocysteinemia.  This is a risk factor for cardiovascular disease.\n",
            "\n",
            "* **Low Vitamin B12:** The Vitamin B12 level is below the normal range (<148 pg/mL vs 187-833 pg/mL), suggesting a deficiency.\n",
            "\n",
            "* **Elevated IgE:** The IgE level of 492.30 IU/mL is much higher than the normal range (0-87 IU/mL), suggesting a possible allergic condition.  Further testing would be needed to identify the specific allergen(s).\n",
            "\n",
            "\n",
            "It is important to note that I am an AI and cannot give medical advice.  These are just observations from the provided lab results.  Mr. Hardik Sompura should discuss these results with his doctor to determine the appropriate course of action.\n",
            "\n"
          ]
        }
      ]
    }
  ]
}